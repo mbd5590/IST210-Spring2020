{
  "nbformat": 4,
  "nbformat_minor": 0,
  "metadata": {
    "colab": {
      "name": "firstday.ipynb",
      "provenance": [],
      "authorship_tag": "ABX9TyPBmUwu92rtOVEaZuMcngtw",
      "include_colab_link": true
    },
    "kernelspec": {
      "name": "python3",
      "display_name": "Python 3"
    }
  },
  "cells": [
    {
      "cell_type": "markdown",
      "metadata": {
        "id": "view-in-github",
        "colab_type": "text"
      },
      "source": [
        "<a href=\"https://colab.research.google.com/github/mbd5590/IST210-Spring2020/blob/master/firstday.ipynb\" target=\"_parent\"><img src=\"https://colab.research.google.com/assets/colab-badge.svg\" alt=\"Open In Colab\"/></a>"
      ]
    },
    {
      "cell_type": "code",
      "metadata": {
        "id": "fGQbYa1izZ-u",
        "colab_type": "code",
        "colab": {
          "base_uri": "https://localhost:8080/",
          "height": 34
        },
        "outputId": "67d9d6cc-ae6d-433b-e0e9-66001aef8387"
      },
      "source": [
        "2+2"
      ],
      "execution_count": 4,
      "outputs": [
        {
          "output_type": "execute_result",
          "data": {
            "text/plain": [
              "4"
            ]
          },
          "metadata": {
            "tags": []
          },
          "execution_count": 4
        }
      ]
    },
    {
      "cell_type": "markdown",
      "metadata": {
        "id": "3ErnI7IZz9gp",
        "colab_type": "text"
      },
      "source": [
        "This is my first notebook!\n"
      ]
    },
    {
      "cell_type": "code",
      "metadata": {
        "id": "goq01a1ezvFG",
        "colab_type": "code",
        "colab": {
          "base_uri": "https://localhost:8080/",
          "height": 34
        },
        "outputId": "d55047f4-b64d-4df6-aacf-296f54dc156a"
      },
      "source": [
        "2+3"
      ],
      "execution_count": 5,
      "outputs": [
        {
          "output_type": "execute_result",
          "data": {
            "text/plain": [
              "5"
            ]
          },
          "metadata": {
            "tags": []
          },
          "execution_count": 5
        }
      ]
    },
    {
      "cell_type": "markdown",
      "metadata": {
        "id": "93YTrFsp0nmI",
        "colab_type": "text"
      },
      "source": [
        "### this is a header\n"
      ]
    },
    {
      "cell_type": "markdown",
      "metadata": {
        "id": "0Mre5ZLG4JNG",
        "colab_type": "text"
      },
      "source": [
        "![alt text](https://raw.githubusercontent.com/mbd5590/IST210-Spring2020/master/introduction/MS%20Paint%20_%20Microsoft%20Paint%20Online.png)\n"
      ]
    }
  ]
}