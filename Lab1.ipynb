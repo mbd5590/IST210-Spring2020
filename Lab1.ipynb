{
  "nbformat": 4,
  "nbformat_minor": 0,
  "metadata": {
    "colab": {
      "name": "Lab1.ipynb",
      "provenance": [],
      "authorship_tag": "ABX9TyN2GQ6ApSM3HyCGMP1knMxE",
      "include_colab_link": true
    },
    "kernelspec": {
      "name": "python3",
      "display_name": "Python 3"
    }
  },
  "cells": [
    {
      "cell_type": "markdown",
      "metadata": {
        "id": "view-in-github",
        "colab_type": "text"
      },
      "source": [
        "<a href=\"https://colab.research.google.com/github/mbd5590/IST210-Spring2020/blob/master/Lab1.ipynb\" target=\"_parent\"><img src=\"https://colab.research.google.com/assets/colab-badge.svg\" alt=\"Open In Colab\"/></a>"
      ]
    },
    {
      "cell_type": "markdown",
      "metadata": {
        "id": "ASNShGPQFDCl",
        "colab_type": "text"
      },
      "source": [
        "### Michael DeLuca"
      ]
    },
    {
      "cell_type": "markdown",
      "metadata": {
        "id": "4728Jns0FND1",
        "colab_type": "text"
      },
      "source": [
        "### My IST related interests: \n",
        "\n",
        "\n",
        "*   Analyzing technology \n",
        "*   Coding \n",
        "\n",
        "\n",
        "*   Computer software\n",
        "*   Operating systems\n",
        "\n",
        "\n",
        "\n",
        "\n"
      ]
    },
    {
      "cell_type": "markdown",
      "metadata": {
        "id": "cDTL-2s7GC4O",
        "colab_type": "text"
      },
      "source": [
        "### My future career:\n",
        "A cybersecurity analyst "
      ]
    }
  ]
}