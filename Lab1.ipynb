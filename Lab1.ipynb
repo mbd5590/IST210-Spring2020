{
  "nbformat": 4,
  "nbformat_minor": 0,
  "metadata": {
    "colab": {
      "name": "Lab1.ipynb",
      "provenance": [],
      "authorship_tag": "ABX9TyPHZdZiCR5Egbnsmh0YivE2",
      "include_colab_link": true
    },
    "kernelspec": {
      "name": "python3",
      "display_name": "Python 3"
    }
  },
  "cells": [
    {
      "cell_type": "markdown",
      "metadata": {
        "id": "view-in-github",
        "colab_type": "text"
      },
      "source": [
        "<a href=\"https://colab.research.google.com/github/mbd5590/IST210-Spring2020/blob/master/Lab1.ipynb\" target=\"_parent\"><img src=\"https://colab.research.google.com/assets/colab-badge.svg\" alt=\"Open In Colab\"/></a>"
      ]
    },
    {
      "cell_type": "markdown",
      "metadata": {
        "id": "ASNShGPQFDCl",
        "colab_type": "text"
      },
      "source": [
        "### Michael DeLuca"
      ]
    },
    {
      "cell_type": "markdown",
      "metadata": {
        "id": "4728Jns0FND1",
        "colab_type": "text"
      },
      "source": [
        "### My IST related interests: \n",
        "\n",
        "\n",
        "*   Analyzing technology \n",
        "*   Coding \n",
        "\n",
        "\n",
        "*   Computer software\n",
        "*   Operating systems\n",
        "\n",
        "\n",
        "\n",
        "\n"
      ]
    },
    {
      "cell_type": "markdown",
      "metadata": {
        "id": "cDTL-2s7GC4O",
        "colab_type": "text"
      },
      "source": [
        "### My future career:\n",
        "A cybersecurity analyst "
      ]
    },
    {
      "cell_type": "markdown",
      "metadata": {
        "id": "GRxpuTS8IGBZ",
        "colab_type": "text"
      },
      "source": [
        "![alt text](https://raw.githubusercontent.com/mbd5590/IST210-Spring2020/master/introduction/MS%20Paint%20_%20Microsoft%20Paint%20Online.png) "
      ]
    }
  ]
}